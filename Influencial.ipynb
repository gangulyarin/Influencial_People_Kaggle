{
  "nbformat": 4,
  "nbformat_minor": 0,
  "metadata": {
    "colab": {
      "provenance": [],
      "authorship_tag": "ABX9TyM+QUJgSkLFzhF1+rhKN4rw",
      "include_colab_link": true
    },
    "kernelspec": {
      "name": "python3",
      "display_name": "Python 3"
    },
    "language_info": {
      "name": "python"
    }
  },
  "cells": [
    {
      "cell_type": "markdown",
      "metadata": {
        "id": "view-in-github",
        "colab_type": "text"
      },
      "source": [
        "<a href=\"https://colab.research.google.com/github/gangulyarin/Influencial_People_Kaggle/blob/main/Influencial.ipynb\" target=\"_parent\"><img src=\"https://colab.research.google.com/assets/colab-badge.svg\" alt=\"Open In Colab\"/></a>"
      ]
    },
    {
      "cell_type": "code",
      "execution_count": 1,
      "metadata": {
        "id": "ZMeJFwxUZIo7"
      },
      "outputs": [],
      "source": [
        "! pip install -q kaggle"
      ]
    },
    {
      "cell_type": "code",
      "source": [
        "! mkdir ~/.kaggle"
      ],
      "metadata": {
        "colab": {
          "base_uri": "https://localhost:8080/"
        },
        "id": "Csf9vAIB8TDD",
        "outputId": "eb00f88a-90d5-406e-eafd-4e3e0524dd2a"
      },
      "execution_count": 2,
      "outputs": [
        {
          "output_type": "stream",
          "name": "stdout",
          "text": [
            "mkdir: cannot create directory ‘/root/.kaggle’: File exists\n"
          ]
        }
      ]
    },
    {
      "cell_type": "code",
      "source": [
        "! rm ~/.kaggle/kaggle.json"
      ],
      "metadata": {
        "colab": {
          "base_uri": "https://localhost:8080/"
        },
        "id": "L1YBBdvX8YSF",
        "outputId": "30c59c86-026f-482f-8a84-4012435c567c"
      },
      "execution_count": 3,
      "outputs": [
        {
          "output_type": "stream",
          "name": "stdout",
          "text": [
            "rm: cannot remove '/root/.kaggle/kaggle.json': No such file or directory\n"
          ]
        }
      ]
    },
    {
      "cell_type": "code",
      "source": [
        "! cp kaggle.json ~/.kaggle/"
      ],
      "metadata": {
        "id": "H0g9gHb78a62"
      },
      "execution_count": 4,
      "outputs": []
    },
    {
      "cell_type": "code",
      "source": [
        "! chmod 600 ~/.kaggle/kaggle.json"
      ],
      "metadata": {
        "id": "RLjnqdvw8den"
      },
      "execution_count": 5,
      "outputs": []
    },
    {
      "cell_type": "code",
      "source": [
        "! kaggle competitions download -c predict-who-is-more-influential-in-a-social-network"
      ],
      "metadata": {
        "colab": {
          "base_uri": "https://localhost:8080/"
        },
        "id": "SUkNZZqw8ezq",
        "outputId": "cab450c7-e335-44ed-de6f-dabd3a4ecccf"
      },
      "execution_count": 6,
      "outputs": [
        {
          "output_type": "stream",
          "name": "stdout",
          "text": [
            "Downloading predict-who-is-more-influential-in-a-social-network.zip to /content\n",
            "\r  0% 0.00/576k [00:00<?, ?B/s]\n",
            "\r100% 576k/576k [00:00<00:00, 85.1MB/s]\n"
          ]
        }
      ]
    },
    {
      "cell_type": "code",
      "source": [
        "import zipfile\n",
        "with zipfile.ZipFile('predict-who-is-more-influential-in-a-social-network.zip') as zf:\n",
        "  zf.extractall('')"
      ],
      "metadata": {
        "id": "Kz9qlKvq8tk9"
      },
      "execution_count": 7,
      "outputs": []
    },
    {
      "cell_type": "code",
      "source": [
        "import pandas as pd\n",
        "\n",
        "data = pd.read_csv('train.csv')\n",
        "data.head()"
      ],
      "metadata": {
        "colab": {
          "base_uri": "https://localhost:8080/",
          "height": 300
        },
        "id": "iEzBGtdy9BUC",
        "outputId": "16a224b5-061c-4b16-c1fd-35a31a73c277"
      },
      "execution_count": 8,
      "outputs": [
        {
          "output_type": "execute_result",
          "data": {
            "text/plain": [
              "   Choice  A_follower_count  A_following_count  A_listed_count  \\\n",
              "0       0               228                302               3   \n",
              "1       0             21591               1179             228   \n",
              "2       0              7310               1215             101   \n",
              "3       0                20                  7               2   \n",
              "4       1             45589                862            2641   \n",
              "\n",
              "   A_mentions_received  A_retweets_received  A_mentions_sent  A_retweets_sent  \\\n",
              "0             0.583979             0.100503         0.100503         0.100503   \n",
              "1            90.456506            25.798292         5.709329         1.111159   \n",
              "2            25.503644             9.556347         5.361519         0.591206   \n",
              "3             7.690824             0.277306         1.331508         0.100503   \n",
              "4           148.854279            36.998884        27.881768         3.333492   \n",
              "\n",
              "     A_posts  A_network_feature_1  ...  B_following_count  B_listed_count  \\\n",
              "0   0.362150                    2  ...              29808            1689   \n",
              "1   5.176620                  369  ...                848            1610   \n",
              "2   3.589718                   95  ...                482             206   \n",
              "3   2.830627                    6  ...              17637             278   \n",
              "4  23.861282                  551  ...               1711             181   \n",
              "\n",
              "   B_mentions_received  B_retweets_received  B_mentions_sent  B_retweets_sent  \\\n",
              "0            15.430498             3.984029         8.204331         0.332423   \n",
              "1            40.495021             8.943607         3.227677         0.564343   \n",
              "2             0.734696             0.354379         0.603202         0.100503   \n",
              "3           572.874856           390.293681        27.552040         7.167557   \n",
              "4            21.601866             3.581661         6.764657         1.119727   \n",
              "\n",
              "     B_posts  B_network_feature_1  B_network_feature_2  B_network_feature_3  \n",
              "0   6.988815                   66            75.530303          1916.893939  \n",
              "1   1.070321                  163           132.030675          2931.515337  \n",
              "2   0.603202                    3            10.333333           277.333333  \n",
              "3  32.101906                 1762            23.469296          1395.845634  \n",
              "4   4.563246                   85            48.500000          1993.627907  \n",
              "\n",
              "[5 rows x 23 columns]"
            ],
            "text/html": [
              "\n",
              "  <div id=\"df-1224f5f4-cb0e-4a7b-8ebf-7c4cf9f585d5\">\n",
              "    <div class=\"colab-df-container\">\n",
              "      <div>\n",
              "<style scoped>\n",
              "    .dataframe tbody tr th:only-of-type {\n",
              "        vertical-align: middle;\n",
              "    }\n",
              "\n",
              "    .dataframe tbody tr th {\n",
              "        vertical-align: top;\n",
              "    }\n",
              "\n",
              "    .dataframe thead th {\n",
              "        text-align: right;\n",
              "    }\n",
              "</style>\n",
              "<table border=\"1\" class=\"dataframe\">\n",
              "  <thead>\n",
              "    <tr style=\"text-align: right;\">\n",
              "      <th></th>\n",
              "      <th>Choice</th>\n",
              "      <th>A_follower_count</th>\n",
              "      <th>A_following_count</th>\n",
              "      <th>A_listed_count</th>\n",
              "      <th>A_mentions_received</th>\n",
              "      <th>A_retweets_received</th>\n",
              "      <th>A_mentions_sent</th>\n",
              "      <th>A_retweets_sent</th>\n",
              "      <th>A_posts</th>\n",
              "      <th>A_network_feature_1</th>\n",
              "      <th>...</th>\n",
              "      <th>B_following_count</th>\n",
              "      <th>B_listed_count</th>\n",
              "      <th>B_mentions_received</th>\n",
              "      <th>B_retweets_received</th>\n",
              "      <th>B_mentions_sent</th>\n",
              "      <th>B_retweets_sent</th>\n",
              "      <th>B_posts</th>\n",
              "      <th>B_network_feature_1</th>\n",
              "      <th>B_network_feature_2</th>\n",
              "      <th>B_network_feature_3</th>\n",
              "    </tr>\n",
              "  </thead>\n",
              "  <tbody>\n",
              "    <tr>\n",
              "      <th>0</th>\n",
              "      <td>0</td>\n",
              "      <td>228</td>\n",
              "      <td>302</td>\n",
              "      <td>3</td>\n",
              "      <td>0.583979</td>\n",
              "      <td>0.100503</td>\n",
              "      <td>0.100503</td>\n",
              "      <td>0.100503</td>\n",
              "      <td>0.362150</td>\n",
              "      <td>2</td>\n",
              "      <td>...</td>\n",
              "      <td>29808</td>\n",
              "      <td>1689</td>\n",
              "      <td>15.430498</td>\n",
              "      <td>3.984029</td>\n",
              "      <td>8.204331</td>\n",
              "      <td>0.332423</td>\n",
              "      <td>6.988815</td>\n",
              "      <td>66</td>\n",
              "      <td>75.530303</td>\n",
              "      <td>1916.893939</td>\n",
              "    </tr>\n",
              "    <tr>\n",
              "      <th>1</th>\n",
              "      <td>0</td>\n",
              "      <td>21591</td>\n",
              "      <td>1179</td>\n",
              "      <td>228</td>\n",
              "      <td>90.456506</td>\n",
              "      <td>25.798292</td>\n",
              "      <td>5.709329</td>\n",
              "      <td>1.111159</td>\n",
              "      <td>5.176620</td>\n",
              "      <td>369</td>\n",
              "      <td>...</td>\n",
              "      <td>848</td>\n",
              "      <td>1610</td>\n",
              "      <td>40.495021</td>\n",
              "      <td>8.943607</td>\n",
              "      <td>3.227677</td>\n",
              "      <td>0.564343</td>\n",
              "      <td>1.070321</td>\n",
              "      <td>163</td>\n",
              "      <td>132.030675</td>\n",
              "      <td>2931.515337</td>\n",
              "    </tr>\n",
              "    <tr>\n",
              "      <th>2</th>\n",
              "      <td>0</td>\n",
              "      <td>7310</td>\n",
              "      <td>1215</td>\n",
              "      <td>101</td>\n",
              "      <td>25.503644</td>\n",
              "      <td>9.556347</td>\n",
              "      <td>5.361519</td>\n",
              "      <td>0.591206</td>\n",
              "      <td>3.589718</td>\n",
              "      <td>95</td>\n",
              "      <td>...</td>\n",
              "      <td>482</td>\n",
              "      <td>206</td>\n",
              "      <td>0.734696</td>\n",
              "      <td>0.354379</td>\n",
              "      <td>0.603202</td>\n",
              "      <td>0.100503</td>\n",
              "      <td>0.603202</td>\n",
              "      <td>3</td>\n",
              "      <td>10.333333</td>\n",
              "      <td>277.333333</td>\n",
              "    </tr>\n",
              "    <tr>\n",
              "      <th>3</th>\n",
              "      <td>0</td>\n",
              "      <td>20</td>\n",
              "      <td>7</td>\n",
              "      <td>2</td>\n",
              "      <td>7.690824</td>\n",
              "      <td>0.277306</td>\n",
              "      <td>1.331508</td>\n",
              "      <td>0.100503</td>\n",
              "      <td>2.830627</td>\n",
              "      <td>6</td>\n",
              "      <td>...</td>\n",
              "      <td>17637</td>\n",
              "      <td>278</td>\n",
              "      <td>572.874856</td>\n",
              "      <td>390.293681</td>\n",
              "      <td>27.552040</td>\n",
              "      <td>7.167557</td>\n",
              "      <td>32.101906</td>\n",
              "      <td>1762</td>\n",
              "      <td>23.469296</td>\n",
              "      <td>1395.845634</td>\n",
              "    </tr>\n",
              "    <tr>\n",
              "      <th>4</th>\n",
              "      <td>1</td>\n",
              "      <td>45589</td>\n",
              "      <td>862</td>\n",
              "      <td>2641</td>\n",
              "      <td>148.854279</td>\n",
              "      <td>36.998884</td>\n",
              "      <td>27.881768</td>\n",
              "      <td>3.333492</td>\n",
              "      <td>23.861282</td>\n",
              "      <td>551</td>\n",
              "      <td>...</td>\n",
              "      <td>1711</td>\n",
              "      <td>181</td>\n",
              "      <td>21.601866</td>\n",
              "      <td>3.581661</td>\n",
              "      <td>6.764657</td>\n",
              "      <td>1.119727</td>\n",
              "      <td>4.563246</td>\n",
              "      <td>85</td>\n",
              "      <td>48.500000</td>\n",
              "      <td>1993.627907</td>\n",
              "    </tr>\n",
              "  </tbody>\n",
              "</table>\n",
              "<p>5 rows × 23 columns</p>\n",
              "</div>\n",
              "      <button class=\"colab-df-convert\" onclick=\"convertToInteractive('df-1224f5f4-cb0e-4a7b-8ebf-7c4cf9f585d5')\"\n",
              "              title=\"Convert this dataframe to an interactive table.\"\n",
              "              style=\"display:none;\">\n",
              "        \n",
              "  <svg xmlns=\"http://www.w3.org/2000/svg\" height=\"24px\"viewBox=\"0 0 24 24\"\n",
              "       width=\"24px\">\n",
              "    <path d=\"M0 0h24v24H0V0z\" fill=\"none\"/>\n",
              "    <path d=\"M18.56 5.44l.94 2.06.94-2.06 2.06-.94-2.06-.94-.94-2.06-.94 2.06-2.06.94zm-11 1L8.5 8.5l.94-2.06 2.06-.94-2.06-.94L8.5 2.5l-.94 2.06-2.06.94zm10 10l.94 2.06.94-2.06 2.06-.94-2.06-.94-.94-2.06-.94 2.06-2.06.94z\"/><path d=\"M17.41 7.96l-1.37-1.37c-.4-.4-.92-.59-1.43-.59-.52 0-1.04.2-1.43.59L10.3 9.45l-7.72 7.72c-.78.78-.78 2.05 0 2.83L4 21.41c.39.39.9.59 1.41.59.51 0 1.02-.2 1.41-.59l7.78-7.78 2.81-2.81c.8-.78.8-2.07 0-2.86zM5.41 20L4 18.59l7.72-7.72 1.47 1.35L5.41 20z\"/>\n",
              "  </svg>\n",
              "      </button>\n",
              "      \n",
              "  <style>\n",
              "    .colab-df-container {\n",
              "      display:flex;\n",
              "      flex-wrap:wrap;\n",
              "      gap: 12px;\n",
              "    }\n",
              "\n",
              "    .colab-df-convert {\n",
              "      background-color: #E8F0FE;\n",
              "      border: none;\n",
              "      border-radius: 50%;\n",
              "      cursor: pointer;\n",
              "      display: none;\n",
              "      fill: #1967D2;\n",
              "      height: 32px;\n",
              "      padding: 0 0 0 0;\n",
              "      width: 32px;\n",
              "    }\n",
              "\n",
              "    .colab-df-convert:hover {\n",
              "      background-color: #E2EBFA;\n",
              "      box-shadow: 0px 1px 2px rgba(60, 64, 67, 0.3), 0px 1px 3px 1px rgba(60, 64, 67, 0.15);\n",
              "      fill: #174EA6;\n",
              "    }\n",
              "\n",
              "    [theme=dark] .colab-df-convert {\n",
              "      background-color: #3B4455;\n",
              "      fill: #D2E3FC;\n",
              "    }\n",
              "\n",
              "    [theme=dark] .colab-df-convert:hover {\n",
              "      background-color: #434B5C;\n",
              "      box-shadow: 0px 1px 3px 1px rgba(0, 0, 0, 0.15);\n",
              "      filter: drop-shadow(0px 1px 2px rgba(0, 0, 0, 0.3));\n",
              "      fill: #FFFFFF;\n",
              "    }\n",
              "  </style>\n",
              "\n",
              "      <script>\n",
              "        const buttonEl =\n",
              "          document.querySelector('#df-1224f5f4-cb0e-4a7b-8ebf-7c4cf9f585d5 button.colab-df-convert');\n",
              "        buttonEl.style.display =\n",
              "          google.colab.kernel.accessAllowed ? 'block' : 'none';\n",
              "\n",
              "        async function convertToInteractive(key) {\n",
              "          const element = document.querySelector('#df-1224f5f4-cb0e-4a7b-8ebf-7c4cf9f585d5');\n",
              "          const dataTable =\n",
              "            await google.colab.kernel.invokeFunction('convertToInteractive',\n",
              "                                                     [key], {});\n",
              "          if (!dataTable) return;\n",
              "\n",
              "          const docLinkHtml = 'Like what you see? Visit the ' +\n",
              "            '<a target=\"_blank\" href=https://colab.research.google.com/notebooks/data_table.ipynb>data table notebook</a>'\n",
              "            + ' to learn more about interactive tables.';\n",
              "          element.innerHTML = '';\n",
              "          dataTable['output_type'] = 'display_data';\n",
              "          await google.colab.output.renderOutput(dataTable, element);\n",
              "          const docLink = document.createElement('div');\n",
              "          docLink.innerHTML = docLinkHtml;\n",
              "          element.appendChild(docLink);\n",
              "        }\n",
              "      </script>\n",
              "    </div>\n",
              "  </div>\n",
              "  "
            ]
          },
          "metadata": {},
          "execution_count": 8
        }
      ]
    },
    {
      "cell_type": "code",
      "source": [
        "data.columns"
      ],
      "metadata": {
        "colab": {
          "base_uri": "https://localhost:8080/"
        },
        "id": "KhtpLOYu9Kkt",
        "outputId": "bf74ebb9-81e1-4249-83b0-a20f257faf98"
      },
      "execution_count": 9,
      "outputs": [
        {
          "output_type": "execute_result",
          "data": {
            "text/plain": [
              "Index(['Choice', 'A_follower_count', 'A_following_count', 'A_listed_count',\n",
              "       'A_mentions_received', 'A_retweets_received', 'A_mentions_sent',\n",
              "       'A_retweets_sent', 'A_posts', 'A_network_feature_1',\n",
              "       'A_network_feature_2', 'A_network_feature_3', 'B_follower_count',\n",
              "       'B_following_count', 'B_listed_count', 'B_mentions_received',\n",
              "       'B_retweets_received', 'B_mentions_sent', 'B_retweets_sent', 'B_posts',\n",
              "       'B_network_feature_1', 'B_network_feature_2', 'B_network_feature_3'],\n",
              "      dtype='object')"
            ]
          },
          "metadata": {},
          "execution_count": 9
        }
      ]
    },
    {
      "cell_type": "code",
      "source": [
        "data.info()"
      ],
      "metadata": {
        "colab": {
          "base_uri": "https://localhost:8080/"
        },
        "id": "9tel3Gah_a3e",
        "outputId": "8786de15-bf83-4849-bfe2-b466e514b730"
      },
      "execution_count": 10,
      "outputs": [
        {
          "output_type": "stream",
          "name": "stdout",
          "text": [
            "<class 'pandas.core.frame.DataFrame'>\n",
            "RangeIndex: 5500 entries, 0 to 5499\n",
            "Data columns (total 23 columns):\n",
            " #   Column               Non-Null Count  Dtype  \n",
            "---  ------               --------------  -----  \n",
            " 0   Choice               5500 non-null   int64  \n",
            " 1   A_follower_count     5500 non-null   int64  \n",
            " 2   A_following_count    5500 non-null   int64  \n",
            " 3   A_listed_count       5500 non-null   int64  \n",
            " 4   A_mentions_received  5500 non-null   float64\n",
            " 5   A_retweets_received  5500 non-null   float64\n",
            " 6   A_mentions_sent      5500 non-null   float64\n",
            " 7   A_retweets_sent      5500 non-null   float64\n",
            " 8   A_posts              5500 non-null   float64\n",
            " 9   A_network_feature_1  5500 non-null   int64  \n",
            " 10  A_network_feature_2  5500 non-null   float64\n",
            " 11  A_network_feature_3  5500 non-null   float64\n",
            " 12  B_follower_count     5500 non-null   int64  \n",
            " 13  B_following_count    5500 non-null   int64  \n",
            " 14  B_listed_count       5500 non-null   int64  \n",
            " 15  B_mentions_received  5500 non-null   float64\n",
            " 16  B_retweets_received  5500 non-null   float64\n",
            " 17  B_mentions_sent      5500 non-null   float64\n",
            " 18  B_retweets_sent      5500 non-null   float64\n",
            " 19  B_posts              5500 non-null   float64\n",
            " 20  B_network_feature_1  5500 non-null   int64  \n",
            " 21  B_network_feature_2  5500 non-null   float64\n",
            " 22  B_network_feature_3  5500 non-null   float64\n",
            "dtypes: float64(14), int64(9)\n",
            "memory usage: 988.4 KB\n"
          ]
        }
      ]
    },
    {
      "cell_type": "code",
      "source": [
        "import matplotlib.pyplot as plt\n",
        "import seaborn as sns\n",
        "corr_mat = data.corr()\n",
        "sns.heatmap(corr_mat)\n",
        "plt.show()"
      ],
      "metadata": {
        "colab": {
          "base_uri": "https://localhost:8080/",
          "height": 366
        },
        "id": "l9omYBg6ITs6",
        "outputId": "6078ed1f-9684-47d9-9ff5-7850caf428cd"
      },
      "execution_count": 11,
      "outputs": [
        {
          "output_type": "display_data",
          "data": {
            "text/plain": [
              "<Figure size 432x288 with 2 Axes>"
            ],
            "image/png": "[encoded data removed]"
          },
          "metadata": {
            "needs_background": "light"
          }
        }
      ]
    },
    {
      "cell_type": "code",
      "source": [
        "from scipy.stats import pearsonr\n",
        "\n",
        "corr,_ = pearsonr(data['A_retweets_received'],data['A_mentions_received'])\n",
        "corr"
      ],
      "metadata": {
        "colab": {
          "base_uri": "https://localhost:8080/"
        },
        "id": "13nKtUBnPd-R",
        "outputId": "a8cd8165-0bed-460b-a09a-8ab00bad5d0a"
      },
      "execution_count": 14,
      "outputs": [
        {
          "output_type": "execute_result",
          "data": {
            "text/plain": [
              "0.9900206714970009"
            ]
          },
          "metadata": {},
          "execution_count": 14
        }
      ]
    },
    {
      "cell_type": "code",
      "source": [
        "corr,_ = pearsonr(data['B_retweets_received'],data['B_mentions_received'])\n",
        "corr"
      ],
      "metadata": {
        "colab": {
          "base_uri": "https://localhost:8080/"
        },
        "id": "63p44ZgfQiNi",
        "outputId": "ef3bfc72-4168-4d96-a423-13dde7b2b455"
      },
      "execution_count": 15,
      "outputs": [
        {
          "output_type": "execute_result",
          "data": {
            "text/plain": [
              "0.9864095511768503"
            ]
          },
          "metadata": {},
          "execution_count": 15
        }
      ]
    },
    {
      "cell_type": "code",
      "source": [
        "corr,_ = pearsonr(data['B_retweets_sent'],data['B_mentions_received'])\n",
        "corr"
      ],
      "metadata": {
        "colab": {
          "base_uri": "https://localhost:8080/"
        },
        "id": "5tosDeyOQnQr",
        "outputId": "6ec2efa6-17c5-449b-fe2d-d973ded7b99c"
      },
      "execution_count": 18,
      "outputs": [
        {
          "output_type": "execute_result",
          "data": {
            "text/plain": [
              "0.04868277736758093"
            ]
          },
          "metadata": {},
          "execution_count": 18
        }
      ]
    },
    {
      "cell_type": "code",
      "source": [
        "train_data.columns"
      ],
      "metadata": {
        "colab": {
          "base_uri": "https://localhost:8080/"
        },
        "id": "nXlcglfmXlH3",
        "outputId": "a2e54011-c3ee-42ac-c111-fca4cd8905a4"
      },
      "execution_count": 21,
      "outputs": [
        {
          "output_type": "execute_result",
          "data": {
            "text/plain": [
              "Index(['Choice', 'A_follower_count', 'A_following_count', 'A_listed_count',\n",
              "       'A_retweets_received', 'A_mentions_sent', 'A_retweets_sent', 'A_posts',\n",
              "       'A_network_feature_1', 'A_network_feature_2', 'A_network_feature_3',\n",
              "       'B_follower_count', 'B_following_count', 'B_listed_count',\n",
              "       'B_retweets_received', 'B_mentions_sent', 'B_retweets_sent', 'B_posts',\n",
              "       'B_network_feature_1', 'B_network_feature_2', 'B_network_feature_3'],\n",
              "      dtype='object')"
            ]
          },
          "metadata": {},
          "execution_count": 21
        }
      ]
    },
    {
      "cell_type": "code",
      "source": [
        "# Lets remove any one of these and try again\n",
        "train_data = data.drop(columns = ['A_mentions_received','B_mentions_received'])"
      ],
      "metadata": {
        "id": "atGizL2pRCXZ"
      },
      "execution_count": 19,
      "outputs": []
    },
    {
      "cell_type": "code",
      "source": [
        "from sklearn.model_selection import train_test_split\n",
        "\n",
        "train_X, test_X, train_y, test_y = train_test_split(train_data.drop(columns=['Choice']),train_data['Choice'])"
      ],
      "metadata": {
        "id": "Bqo2QTZ3WjWo"
      },
      "execution_count": 22,
      "outputs": []
    },
    {
      "cell_type": "code",
      "source": [
        "from sklearn.ensemble import RandomForestClassifier, GradientBoostingClassifier\n",
        "from sklearn.tree import DecisionTreeClassifier\n",
        "from sklearn.linear_model import LogisticRegression\n",
        "from sklearn.model_selection import GridSearchCV\n",
        "from sklearn.metrics import accuracy_score, confusion_matrix\n",
        "\n",
        "rfc = RandomForestClassifier()\n",
        "gb = GradientBoostingClassifier()\n",
        "dc = DecisionTreeClassifier()\n",
        "lg = LogisticRegression()\n",
        "\n",
        "models = [rfc,lg,dc,gb]\n",
        "\n",
        "n_features = len(train_data.columns)\n",
        "\n",
        "param_rfc ={\n",
        "    'n_estimators':[10,20,30,40],\n",
        "    'max_features': ['sqrt','log2',n_features],\n",
        "    'max_depth': [3,6,9,12,15]\n",
        "}\n",
        "\n",
        "param_lg = {\n",
        "    'penalty':['l1','l2'],\n",
        "    'C':[0.0001,0.001,0.01,1,10,100]\n",
        "}\n",
        "\n",
        "param_tree = {\n",
        "    'criterion':['gini','entropy'],\n",
        "    'max_features': ['sqrt','log2',n_features],\n",
        "    'max_depth': [3,6,9,12,15]\n",
        "}\n",
        "\n",
        "param_gb = {\n",
        "    'max_features': ['sqrt','log2',n_features],\n",
        "    'max_depth': [3,6,9,12,15],\n",
        "    'learning_rate':[0.001,0.01,1],\n",
        "    'n_estimators':[10,20,30]\n",
        "}\n",
        "\n",
        "params = [param_rfc,param_lg,param_tree,param_gb]\n",
        "\n",
        "grid_dict = ['Random Forest Classifier','Logistic Regression','Decision Tree','Gradint Boosting']\n",
        "\n",
        "for idx,model in enumerate(models):\n",
        "  gs = GridSearchCV(model,params[idx],scoring='accuracy',cv=5,n_jobs=-1)\n",
        "  print(\"Pipeline : \",grid_dict[idx])\n",
        "  gs_fit =gs.fit(train_X, train_y)\n",
        "  print(\"Estimator with highest score: \",gs_fit.best_estimator_)\n",
        "  print(\"Parameter  setting that gave best result on hold out data: \",gs_fit.best_params_)\n",
        "  print(\"Score of beest_estimator on left out data: \", gs_fit.best_score_)\n",
        "  preds = gs_fit.predict(test_X)\n",
        "  pred_proba = gs_fit.predict_proba(test_X)\n",
        "  print(pred_proba)\n",
        "  print(\"Accuracy Score: \",accuracy_score(test_y,preds))\n",
        "\n",
        "  conf_mat = confusion_matrix(test_y,preds)\n",
        "  fig,ax = plt.subplots(figsize=(10,10))\n",
        "  sns.heatmap(conf_mat, annot=True, fmt='d', xticklabels=[1,2,3,4],yticklabels=[1,2,3,4])\n",
        "  plt.xlabel('Actual')\n",
        "  plt.ylabel('Predicted')\n",
        "  plt.show()"
      ],
      "metadata": {
        "colab": {
          "base_uri": "https://localhost:8080/",
          "height": 1000
        },
        "id": "RE_wGHnfXzd4",
        "outputId": "fdcafdb4-ee7e-4d14-d27e-9d137dc96c97"
      },
      "execution_count": 24,
      "outputs": [
        {
          "output_type": "stream",
          "name": "stdout",
          "text": [
            "Pipeline :  Random Forest Classifier\n"
          ]
        },
        {
          "output_type": "stream",
          "name": "stderr",
          "text": [
            "/usr/local/lib/python3.8/dist-packages/sklearn/model_selection/_validation.py:372: FitFailedWarning: \n",
            "100 fits failed out of a total of 300.\n",
            "The score on these train-test partitions for these parameters will be set to nan.\n",
            "If these failures are not expected, you can try to debug them by setting error_score='raise'.\n",
            "\n",
            "Below are more details about the failures:\n",
            "--------------------------------------------------------------------------------\n",
            "100 fits failed with the following error:\n",
            "Traceback (most recent call last):\n",
            "  File \"/usr/local/lib/python3.8/dist-packages/sklearn/model_selection/_validation.py\", line 680, in _fit_and_score\n",
            "    estimator.fit(X_train, y_train, **fit_params)\n",
            "  File \"/usr/local/lib/python3.8/dist-packages/sklearn/ensemble/_forest.py\", line 450, in fit\n",
            "    trees = Parallel(\n",
            "  File \"/usr/local/lib/python3.8/dist-packages/joblib/parallel.py\", line 1085, in __call__\n",
            "    if self.dispatch_one_batch(iterator):\n",
            "  File \"/usr/local/lib/python3.8/dist-packages/joblib/parallel.py\", line 901, in dispatch_one_batch\n",
            "    self._dispatch(tasks)\n",
            "  File \"/usr/local/lib/python3.8/dist-packages/joblib/parallel.py\", line 819, in _dispatch\n",
            "    job = self._backend.apply_async(batch, callback=cb)\n",
            "  File \"/usr/local/lib/python3.8/dist-packages/joblib/_parallel_backends.py\", line 208, in apply_async\n",
            "    result = ImmediateResult(func)\n",
            "  File \"/usr/local/lib/python3.8/dist-packages/joblib/_parallel_backends.py\", line 597, in __init__\n",
            "    self.results = batch()\n",
            "  File \"/usr/local/lib/python3.8/dist-packages/joblib/parallel.py\", line 288, in __call__\n",
            "    return [func(*args, **kwargs)\n",
            "  File \"/usr/local/lib/python3.8/dist-packages/joblib/parallel.py\", line 288, in <listcomp>\n",
            "    return [func(*args, **kwargs)\n",
            "  File \"/usr/local/lib/python3.8/dist-packages/sklearn/utils/fixes.py\", line 216, in __call__\n",
            "    return self.function(*args, **kwargs)\n",
            "  File \"/usr/local/lib/python3.8/dist-packages/sklearn/ensemble/_forest.py\", line 185, in _parallel_build_trees\n",
            "    tree.fit(X, y, sample_weight=curr_sample_weight, check_input=False)\n",
            "  File \"/usr/local/lib/python3.8/dist-packages/sklearn/tree/_classes.py\", line 937, in fit\n",
            "    super().fit(\n",
            "  File \"/usr/local/lib/python3.8/dist-packages/sklearn/tree/_classes.py\", line 308, in fit\n",
            "    raise ValueError(\"max_features must be in (0, n_features]\")\n",
            "ValueError: max_features must be in (0, n_features]\n",
            "\n",
            "  warnings.warn(some_fits_failed_message, FitFailedWarning)\n",
            "/usr/local/lib/python3.8/dist-packages/sklearn/model_selection/_search.py:969: UserWarning: One or more of the test scores are non-finite: [0.75272727 0.75927273 0.76121212 0.75951515 0.75563636 0.74884848\n",
            " 0.75733333 0.7609697         nan        nan        nan        nan\n",
            " 0.75975758 0.77090909 0.76678788 0.76775758 0.76484848 0.76848485\n",
            " 0.77066667 0.77333333        nan        nan        nan        nan\n",
            " 0.76606061 0.76436364 0.76921212 0.77236364 0.76606061 0.76824242\n",
            " 0.77842424 0.77066667        nan        nan        nan        nan\n",
            " 0.75539394 0.76678788 0.76048485 0.76557576 0.75563636 0.76193939\n",
            " 0.76387879 0.76993939        nan        nan        nan        nan\n",
            " 0.74860606 0.76193939 0.76290909 0.76775758 0.75563636 0.7590303\n",
            " 0.76484848 0.76606061        nan        nan        nan        nan]\n",
            "  warnings.warn(\n"
          ]
        },
        {
          "output_type": "stream",
          "name": "stdout",
          "text": [
            "Estimator with highest score:  RandomForestClassifier(max_depth=9, max_features='log2', n_estimators=30)\n",
            "Parameter  setting that gave best result on hold out data:  {'max_depth': 9, 'max_features': 'log2', 'n_estimators': 30}\n",
            "Score of beest_estimator on left out data:  0.7784242424242424\n",
            "[[0.48368292 0.51631708]\n",
            " [0.96908314 0.03091686]\n",
            " [0.41498046 0.58501954]\n",
            " ...\n",
            " [0.42701348 0.57298652]\n",
            " [0.05831574 0.94168426]\n",
            " [0.81598567 0.18401433]]\n",
            "Accuracy Score:  0.7898181818181819\n"
          ]
        },
        {
          "output_type": "display_data",
          "data": {
            "text/plain": [
              "<Figure size 720x720 with 2 Axes>"
            ],
            "image/png": "[encoded data removed]"
          },
          "metadata": {
            "needs_background": "light"
          }
        },
        {
          "output_type": "stream",
          "name": "stdout",
          "text": [
            "Pipeline :  Logistic Regression\n"
          ]
        },
        {
          "output_type": "stream",
          "name": "stderr",
          "text": [
            "/usr/local/lib/python3.8/dist-packages/sklearn/model_selection/_validation.py:372: FitFailedWarning: \n",
            "30 fits failed out of a total of 60.\n",
            "The score on these train-test partitions for these parameters will be set to nan.\n",
            "If these failures are not expected, you can try to debug them by setting error_score='raise'.\n",
            "\n",
            "Below are more details about the failures:\n",
            "--------------------------------------------------------------------------------\n",
            "30 fits failed with the following error:\n",
            "Traceback (most recent call last):\n",
            "  File \"/usr/local/lib/python3.8/dist-packages/sklearn/model_selection/_validation.py\", line 680, in _fit_and_score\n",
            "    estimator.fit(X_train, y_train, **fit_params)\n",
            "  File \"/usr/local/lib/python3.8/dist-packages/sklearn/linear_model/_logistic.py\", line 1461, in fit\n",
            "    solver = _check_solver(self.solver, self.penalty, self.dual)\n",
            "  File \"/usr/local/lib/python3.8/dist-packages/sklearn/linear_model/_logistic.py\", line 447, in _check_solver\n",
            "    raise ValueError(\n",
            "ValueError: Solver lbfgs supports only 'l2' or 'none' penalties, got l1 penalty.\n",
            "\n",
            "  warnings.warn(some_fits_failed_message, FitFailedWarning)\n",
            "/usr/local/lib/python3.8/dist-packages/sklearn/model_selection/_search.py:969: UserWarning: One or more of the test scores are non-finite: [       nan 0.73090909        nan 0.73066667        nan 0.73260606\n",
            "        nan 0.73018182        nan 0.73066667        nan 0.73333333]\n",
            "  warnings.warn(\n",
            "/usr/local/lib/python3.8/dist-packages/sklearn/linear_model/_logistic.py:814: ConvergenceWarning: lbfgs failed to converge (status=1):\n",
            "STOP: TOTAL NO. of ITERATIONS REACHED LIMIT.\n",
            "\n",
            "Increase the number of iterations (max_iter) or scale the data as shown in:\n",
            "    https://scikit-learn.org/stable/modules/preprocessing.html\n",
            "Please also refer to the documentation for alternative solver options:\n",
            "    https://scikit-learn.org/stable/modules/linear_model.html#logistic-regression\n",
            "  n_iter_i = _check_optimize_result(\n"
          ]
        },
        {
          "output_type": "stream",
          "name": "stdout",
          "text": [
            "Estimator with highest score:  LogisticRegression(C=100)\n",
            "Parameter  setting that gave best result on hold out data:  {'C': 100, 'penalty': 'l2'}\n",
            "Score of beest_estimator on left out data:  0.7333333333333333\n",
            "[[0.80154865 0.19845135]\n",
            " [0.63450178 0.36549822]\n",
            " [0.41198317 0.58801683]\n",
            " ...\n",
            " [0.50427097 0.49572903]\n",
            " [0.4522516  0.5477484 ]\n",
            " [0.64239557 0.35760443]]\n",
            "Accuracy Score:  0.7454545454545455\n"
          ]
        },
        {
          "output_type": "display_data",
          "data": {
            "text/plain": [
              "<Figure size 720x720 with 2 Axes>"
            ],
            "image/png": "[encoded data removed]"
          },
          "metadata": {
            "needs_background": "light"
          }
        },
        {
          "output_type": "stream",
          "name": "stdout",
          "text": [
            "Pipeline :  Decision Tree\n"
          ]
        },
        {
          "output_type": "stream",
          "name": "stderr",
          "text": [
            "/usr/local/lib/python3.8/dist-packages/sklearn/model_selection/_validation.py:372: FitFailedWarning: \n",
            "50 fits failed out of a total of 150.\n",
            "The score on these train-test partitions for these parameters will be set to nan.\n",
            "If these failures are not expected, you can try to debug them by setting error_score='raise'.\n",
            "\n",
            "Below are more details about the failures:\n",
            "--------------------------------------------------------------------------------\n",
            "50 fits failed with the following error:\n",
            "Traceback (most recent call last):\n",
            "  File \"/usr/local/lib/python3.8/dist-packages/sklearn/model_selection/_validation.py\", line 680, in _fit_and_score\n",
            "    estimator.fit(X_train, y_train, **fit_params)\n",
            "  File \"/usr/local/lib/python3.8/dist-packages/sklearn/tree/_classes.py\", line 937, in fit\n",
            "    super().fit(\n",
            "  File \"/usr/local/lib/python3.8/dist-packages/sklearn/tree/_classes.py\", line 308, in fit\n",
            "    raise ValueError(\"max_features must be in (0, n_features]\")\n",
            "ValueError: max_features must be in (0, n_features]\n",
            "\n",
            "  warnings.warn(some_fits_failed_message, FitFailedWarning)\n",
            "/usr/local/lib/python3.8/dist-packages/sklearn/model_selection/_search.py:969: UserWarning: One or more of the test scores are non-finite: [0.71127273 0.72290909        nan 0.74739394 0.73939394        nan\n",
            " 0.73527273 0.72678788        nan 0.71515152 0.70884848        nan\n",
            " 0.70084848 0.71030303        nan 0.7190303  0.71878788        nan\n",
            " 0.744      0.73842424        nan 0.73066667 0.73818182        nan\n",
            " 0.71393939 0.71151515        nan 0.70448485 0.69987879        nan]\n",
            "  warnings.warn(\n"
          ]
        },
        {
          "output_type": "stream",
          "name": "stdout",
          "text": [
            "Estimator with highest score:  DecisionTreeClassifier(max_depth=6, max_features='sqrt')\n",
            "Parameter  setting that gave best result on hold out data:  {'criterion': 'gini', 'max_depth': 6, 'max_features': 'sqrt'}\n",
            "Score of beest_estimator on left out data:  0.7473939393939394\n",
            "[[0.64673913 0.35326087]\n",
            " [0.89583333 0.10416667]\n",
            " [0.42125984 0.57874016]\n",
            " ...\n",
            " [0.45238095 0.54761905]\n",
            " [0.15315315 0.84684685]\n",
            " [0.8556701  0.1443299 ]]\n",
            "Accuracy Score:  0.757090909090909\n"
          ]
        },
        {
          "output_type": "display_data",
          "data": {
            "text/plain": [
              "<Figure size 720x720 with 2 Axes>"
            ],
            "image/png": "[encoded data removed]"
          },
          "metadata": {
            "needs_background": "light"
          }
        },
        {
          "output_type": "stream",
          "name": "stdout",
          "text": [
            "Pipeline :  Gradint Boosting\n"
          ]
        },
        {
          "output_type": "stream",
          "name": "stderr",
          "text": [
            "/usr/local/lib/python3.8/dist-packages/sklearn/model_selection/_validation.py:372: FitFailedWarning: \n",
            "225 fits failed out of a total of 675.\n",
            "The score on these train-test partitions for these parameters will be set to nan.\n",
            "If these failures are not expected, you can try to debug them by setting error_score='raise'.\n",
            "\n",
            "Below are more details about the failures:\n",
            "--------------------------------------------------------------------------------\n",
            "225 fits failed with the following error:\n",
            "Traceback (most recent call last):\n",
            "  File \"/usr/local/lib/python3.8/dist-packages/sklearn/model_selection/_validation.py\", line 680, in _fit_and_score\n",
            "    estimator.fit(X_train, y_train, **fit_params)\n",
            "  File \"/usr/local/lib/python3.8/dist-packages/sklearn/ensemble/_gb.py\", line 586, in fit\n",
            "    n_stages = self._fit_stages(\n",
            "  File \"/usr/local/lib/python3.8/dist-packages/sklearn/ensemble/_gb.py\", line 663, in _fit_stages\n",
            "    raw_predictions = self._fit_stage(\n",
            "  File \"/usr/local/lib/python3.8/dist-packages/sklearn/ensemble/_gb.py\", line 246, in _fit_stage\n",
            "    tree.fit(X, residual, sample_weight=sample_weight, check_input=False)\n",
            "  File \"/usr/local/lib/python3.8/dist-packages/sklearn/tree/_classes.py\", line 1315, in fit\n",
            "    super().fit(\n",
            "  File \"/usr/local/lib/python3.8/dist-packages/sklearn/tree/_classes.py\", line 308, in fit\n",
            "    raise ValueError(\"max_features must be in (0, n_features]\")\n",
            "ValueError: max_features must be in (0, n_features]\n",
            "\n",
            "  warnings.warn(some_fits_failed_message, FitFailedWarning)\n",
            "/usr/local/lib/python3.8/dist-packages/sklearn/model_selection/_search.py:969: UserWarning: One or more of the test scores are non-finite: [0.50787879 0.56921212 0.67878788 0.50787879 0.56363636 0.67418182\n",
            "        nan        nan        nan 0.50787879 0.64363636 0.70569697\n",
            " 0.50787879 0.63927273 0.70836364        nan        nan        nan\n",
            " 0.50787879 0.66084848 0.70981818 0.50787879 0.66933333 0.71612121\n",
            "        nan        nan        nan 0.50787879 0.67054545 0.71975758\n",
            " 0.50787879 0.66933333 0.71612121        nan        nan        nan\n",
            " 0.50787879 0.66715152 0.72048485 0.50787879 0.67660606 0.71684848\n",
            "        nan        nan        nan 0.73406061 0.75175758 0.752\n",
            " 0.73018182 0.74787879 0.75563636        nan        nan        nan\n",
            " 0.7529697  0.76048485 0.76630303 0.76169697 0.76775758 0.76484848\n",
            "        nan        nan        nan 0.75563636 0.76557576 0.76606061\n",
            " 0.75030303 0.76218182 0.76193939        nan        nan        nan\n",
            " 0.74715152 0.75733333 0.76024242 0.75272727 0.75830303 0.75757576\n",
            "        nan        nan        nan 0.74763636 0.75272727 0.75393939\n",
            " 0.75224242 0.75272727 0.75442424        nan        nan        nan\n",
            " 0.75612121 0.75806061 0.75539394 0.76024242 0.75224242 0.75345455\n",
            "        nan        nan        nan 0.74327273 0.74448485 0.73987879\n",
            " 0.74206061 0.73527273 0.73406061        nan        nan        nan\n",
            " 0.73406061 0.73381818 0.74036364 0.73236364 0.74521212 0.74230303\n",
            "        nan        nan        nan 0.73527273 0.74981818 0.75757576\n",
            " 0.72436364 0.74763636 0.75636364        nan        nan        nan\n",
            " 0.73987879 0.75030303 0.75757576 0.74545455 0.7529697  0.75587879\n",
            "        nan        nan        nan]\n",
            "  warnings.warn(\n"
          ]
        },
        {
          "output_type": "stream",
          "name": "stdout",
          "text": [
            "Estimator with highest score:  GradientBoostingClassifier(learning_rate=0.01, max_depth=6, max_features='log2',\n",
            "                           n_estimators=20)\n",
            "Parameter  setting that gave best result on hold out data:  {'learning_rate': 0.01, 'max_depth': 6, 'max_features': 'log2', 'n_estimators': 20}\n",
            "Score of beest_estimator on left out data:  0.7677575757575757\n",
            "[[0.50385783 0.49614217]\n",
            " [0.57072761 0.42927239]\n",
            " [0.48010157 0.51989843]\n",
            " ...\n",
            " [0.46868687 0.53131313]\n",
            " [0.43005251 0.56994749]\n",
            " [0.53940018 0.46059982]]\n",
            "Accuracy Score:  0.7818181818181819\n"
          ]
        },
        {
          "output_type": "display_data",
          "data": {
            "text/plain": [
              "<Figure size 720x720 with 2 Axes>"
            ],
            "image/png": "[encoded data removed]"
          },
          "metadata": {
            "needs_background": "light"
          }
        }
      ]
    }
  ]
}